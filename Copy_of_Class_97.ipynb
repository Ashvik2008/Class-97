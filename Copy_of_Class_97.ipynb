{
  "nbformat": 4,
  "nbformat_minor": 0,
  "metadata": {
    "colab": {
      "name": "Copy of Class_97.ipynb",
      "provenance": [],
      "authorship_tag": "ABX9TyOCZSpPDg37LSqG9A4pPKtq",
      "include_colab_link": true
    },
    "kernelspec": {
      "name": "python3",
      "display_name": "Python 3"
    },
    "language_info": {
      "name": "python"
    }
  },
  "cells": [
    {
      "cell_type": "markdown",
      "metadata": {
        "id": "view-in-github",
        "colab_type": "text"
      },
      "source": [
        "<a href=\"https://colab.research.google.com/github/Ashvik2008/Class-97/blob/MASTER/Copy_of_Class_97.ipynb\" target=\"_parent\"><img src=\"https://colab.research.google.com/assets/colab-badge.svg\" alt=\"Open In Colab\"/></a>"
      ]
    },
    {
      "cell_type": "code",
      "metadata": {
        "colab": {
          "base_uri": "https://localhost:8080/"
        },
        "id": "e5I5S_CZU_ot",
        "outputId": "694cb207-54c2-4aa5-c67e-a556596528fb"
      },
      "source": [
        "myname = \"Ashvik\"\n",
        "print(myname)\n",
        "print(type(myname))\n",
        "\n",
        "myage = 13\n",
        "print(myage)\n",
        "print(type(myage))\n",
        "\n",
        "myfriendlist = [\"Pradyun\",\"Atharv\",\"Ishan\"]\n",
        "print(myfriendlist)\n",
        "print(type(myfriendlist))\n",
        "print(len(myfriendlist))\n",
        "print(myfriendlist[0])\n",
        "\n",
        "a = \"I love\"\n",
        "b = \"Coding in python\"\n",
        "print(a+b)\n",
        "print(a[0])\n",
        "print(a[-1])\n",
        "\n",
        "p = \"bangalore\"\n",
        "print(p.upper())\n",
        "\n",
        "name = \"vanilla\"\n",
        "pqr = name in [\"vanilla\",\"chocolate\",\"mango\"]\n",
        "print(pqr)"
      ],
      "execution_count": null,
      "outputs": [
        {
          "output_type": "stream",
          "name": "stdout",
          "text": [
            "Ashvik\n",
            "<class 'str'>\n",
            "13\n",
            "<class 'int'>\n",
            "['Pradyun', 'Atharv', 'Ishan']\n",
            "<class 'list'>\n",
            "3\n",
            "Pradyun\n",
            "I loveCoding in python\n",
            "I\n",
            "e\n",
            "BANGALORE\n",
            "True\n"
          ]
        }
      ]
    },
    {
      "cell_type": "code",
      "metadata": {
        "colab": {
          "base_uri": "https://localhost:8080/"
        },
        "id": "DsXrjZAYYMxv",
        "outputId": "e7673a3c-f2f0-4515-c94f-5f2df73da220"
      },
      "source": [
        "a = 33\n",
        "b = 33\n",
        "if b > a:\n",
        "  print(\"b is greater than a\")\n",
        "elif a == b:\n",
        "  print(\"a and b are equal\")"
      ],
      "execution_count": null,
      "outputs": [
        {
          "output_type": "stream",
          "name": "stdout",
          "text": [
            "a and b are equal\n"
          ]
        }
      ]
    },
    {
      "cell_type": "markdown",
      "metadata": {
        "id": "Af7FHMc8Ybpt"
      },
      "source": [
        "'# - Comment line in python'"
      ]
    },
    {
      "cell_type": "code",
      "metadata": {
        "colab": {
          "base_uri": "https://localhost:8080/"
        },
        "id": "FFKeBSenYkG0",
        "outputId": "0d48870d-5483-423e-810e-88dd876b9a86"
      },
      "source": [
        "i = 1\n",
        "while i < 6:\n",
        "  print(i)\n",
        "  i += 1"
      ],
      "execution_count": null,
      "outputs": [
        {
          "output_type": "stream",
          "name": "stdout",
          "text": [
            "1\n",
            "2\n",
            "3\n",
            "4\n",
            "5\n"
          ]
        }
      ]
    },
    {
      "cell_type": "code",
      "metadata": {
        "colab": {
          "base_uri": "https://localhost:8080/"
        },
        "id": "9FghF9GcZJZc",
        "outputId": "390b7747-eabb-4f09-8c39-1815456b7b01"
      },
      "source": [
        "i = 1\n",
        "while i < 6:\n",
        "  print(i)\n",
        "  if i == 3:\n",
        "    break\n",
        "  i += 1\n",
        "\n",
        "#With the break statement we can stop the loop even if the while condition is true:"
      ],
      "execution_count": null,
      "outputs": [
        {
          "output_type": "stream",
          "name": "stdout",
          "text": [
            "1\n",
            "2\n",
            "3\n"
          ]
        }
      ]
    },
    {
      "cell_type": "code",
      "metadata": {
        "colab": {
          "base_uri": "https://localhost:8080/"
        },
        "id": "HcmT4UV_ZjTO",
        "outputId": "97cdecb4-90de-4fc1-9b29-e8564d296b1e"
      },
      "source": [
        "i = 0\n",
        "while i < 6:\n",
        "  i += 1\n",
        "  if i == 3:\n",
        "    continue\n",
        "  print(i)\n",
        "\n",
        "#With the continue statement we can stop the current iteration, and continue with the next:"
      ],
      "execution_count": null,
      "outputs": [
        {
          "output_type": "stream",
          "name": "stdout",
          "text": [
            "1\n",
            "2\n",
            "4\n",
            "5\n",
            "6\n"
          ]
        }
      ]
    },
    {
      "cell_type": "code",
      "metadata": {
        "colab": {
          "base_uri": "https://localhost:8080/"
        },
        "id": "k2g8NBAtaCN5",
        "outputId": "713db103-970c-494f-9545-b568c7d2ac74"
      },
      "source": [
        "fruits = [\"apple\", \"banana\", \"cherry\"]\n",
        "for x in fruits:\n",
        "  print(x)"
      ],
      "execution_count": null,
      "outputs": [
        {
          "output_type": "stream",
          "name": "stdout",
          "text": [
            "apple\n",
            "banana\n",
            "cherry\n"
          ]
        }
      ]
    },
    {
      "cell_type": "code",
      "metadata": {
        "colab": {
          "base_uri": "https://localhost:8080/"
        },
        "id": "7MbKOcycbBlX",
        "outputId": "7140f226-4d80-4c8e-cd24-2bf6f8a0b050"
      },
      "source": [
        "#Counting Words\n",
        "introString = input(\"Enter a String\")\n",
        "characterCount = 0\n",
        "wordCount = 1\n",
        "for i in introString:\n",
        "  characterCount = characterCount + 1\n",
        "  if(i == ' '):\n",
        "    wordCount = wordCount + 1\n",
        "print('number of words in string = ' ,wordCount)\n",
        "print('number of Characters in string = ' ,characterCount)"
      ],
      "execution_count": null,
      "outputs": [
        {
          "output_type": "stream",
          "name": "stdout",
          "text": [
            "Enter a StringI like coding\n",
            "number of words in string =  3\n",
            "number of Characters in string =  13\n"
          ]
        }
      ]
    },
    {
      "cell_type": "code",
      "metadata": {
        "colab": {
          "base_uri": "https://localhost:8080/"
        },
        "id": "EAc6QySfcUIB",
        "outputId": "ec1266a0-b651-4b4b-c131-7ddaff9bfd02"
      },
      "source": [
        "import random\n",
        "print(\"Number guessing game\")\n",
        "\n",
        "number = random.randint(1,9)\n",
        "print(number)\n",
        "chances = 0\n",
        "print('Guess a Number between 1 and 9')\n",
        "\n",
        "while chances < 5:\n",
        "  guess = int(input(\"Enter your Guess Here!\"))\n",
        "  if guess == number :\n",
        "    print(\"Congratulations you have Won\")\n",
        "    break\n",
        "  elif guess < number :\n",
        "    print('You guess was too Low')\n",
        "    print('Your guessed number should be higher than' ,guess)\n",
        "  else :\n",
        "    print('Your guess is too High')\n",
        "    print('Your guessed number should lower than',guess)\n",
        "  chances += 1\n",
        "\n",
        "if not chances < 5:\n",
        "  print(\"You Lose! THE NUMBER WAS\" ,number) "
      ],
      "execution_count": null,
      "outputs": [
        {
          "output_type": "stream",
          "name": "stdout",
          "text": [
            "Number guessing game\n",
            "2\n",
            "Guess a Number between 1 and 9\n",
            "Enter your Guess Here!4\n",
            "Your guess is too High\n",
            "Your guessed number should lower than 4\n",
            "Enter your Guess Here!6\n",
            "Your guess is too High\n",
            "Your guessed number should lower than 6\n",
            "Enter your Guess Here!7\n",
            "Your guess is too High\n",
            "Your guessed number should lower than 7\n",
            "Enter your Guess Here!3\n",
            "Your guess is too High\n",
            "Your guessed number should lower than 3\n",
            "Enter your Guess Here!9\n",
            "Your guess is too High\n",
            "Your guessed number should lower than 9\n",
            "You Lose! THE NUMBER WAS  2\n"
          ]
        }
      ]
    }
  ]
}